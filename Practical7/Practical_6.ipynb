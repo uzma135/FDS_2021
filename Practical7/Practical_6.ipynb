{
  "nbformat": 4,
  "nbformat_minor": 0,
  "metadata": {
    "colab": {
      "name": "Practical 6.ipynb",
      "provenance": [],
      "collapsed_sections": [
        "K1C5S_vfwEZG",
        "mfIY1r-L0RDI"
      ],
      "authorship_tag": "ABX9TyNpEXzlAA8j3Pt6Rm4t7mA3",
      "include_colab_link": true
    },
    "kernelspec": {
      "name": "python3",
      "display_name": "Python 3"
    }
  },
  "cells": [
    {
      "cell_type": "markdown",
      "metadata": {
        "id": "view-in-github",
        "colab_type": "text"
      },
      "source": [
        "<a href=\"https://colab.research.google.com/github/pratikrr/Visualization/blob/main/Practical_6.ipynb\" target=\"_parent\"><img src=\"https://colab.research.google.com/assets/colab-badge.svg\" alt=\"Open In Colab\"/></a>"
      ]
    },
    {
      "cell_type": "markdown",
      "metadata": {
        "id": "K1C5S_vfwEZG"
      },
      "source": [
        "# **Visualization with Matplotlib**\r\n",
        "\r\n",
        "Data visualization is the graphical representation of information and data. By using visual elements like charts, graphs, and maps, data visualization tools provide an accessible way to see and understand trends, outliers, and patterns in data.\r\n",
        "\r\n",
        "In the world of Big Data, data visualization tools and technologies are essential to analyze massive amounts of information and make data-driven decisions.\r\n",
        "\r\n",
        "Below are the visualization methods to present data in effective and interesting ways.\r\n",
        "\r\n",
        "1.   Frequency Table\r\n",
        "2.   Scatter Plot\r\n",
        "3.   Line Chart\r\n",
        "4.   Bar Chart\r\n",
        "5.   Histogram\r\n",
        "6.   Density Curve\r\n",
        "\r\n",
        "**1. Frequency table**\r\n",
        "\r\n",
        "Discovering relationships between variables is the fundamental goal of data analysis. Frequency tables are a basic tool you can use to explore data and get an idea of the relationships between variables. A frequency table is just a data table that shows the counts of one or more categorical variables.\r\n",
        "\r\n",
        "A frequency table is a table that displays the frequencies of different categories. This type of table is particularly useful for understanding the distribution of values in a dataset.\r\n",
        "\r\n",
        "Example 1: Create a DataFrame with information about the letter grade, age, and gender of 10 different students in a class. Here’s how to find the frequency for each letter grade\r\n",
        "\r\n",
        "\r\n"
      ]
    },
    {
      "cell_type": "code",
      "metadata": {
        "colab": {
          "base_uri": "https://localhost:8080/",
          "height": 343
        },
        "id": "Zrifw8jvzFdX",
        "outputId": "3f15011e-6425-48c7-c4c4-162c73e3e049"
      },
      "source": [
        "import pandas as pd\r\n",
        "\r\n",
        "#create data\r\n",
        "df = pd.DataFrame({'Grade': ['A','A','A','B','B', 'B', 'B', 'C', 'D', 'D'],\r\n",
        "                   'Age': [18, 18, 18, 19, 19, 20, 18, 18, 19, 19],\r\n",
        "                   'Gender': ['M','M', 'F', 'F', 'F', 'M', 'M', 'F', 'M', 'F']})\r\n",
        "\r\n",
        "#view data\r\n",
        "df"
      ],
      "execution_count": null,
      "outputs": [
        {
          "output_type": "execute_result",
          "data": {
            "text/html": [
              "<div>\n",
              "<style scoped>\n",
              "    .dataframe tbody tr th:only-of-type {\n",
              "        vertical-align: middle;\n",
              "    }\n",
              "\n",
              "    .dataframe tbody tr th {\n",
              "        vertical-align: top;\n",
              "    }\n",
              "\n",
              "    .dataframe thead th {\n",
              "        text-align: right;\n",
              "    }\n",
              "</style>\n",
              "<table border=\"1\" class=\"dataframe\">\n",
              "  <thead>\n",
              "    <tr style=\"text-align: right;\">\n",
              "      <th></th>\n",
              "      <th>Grade</th>\n",
              "      <th>Age</th>\n",
              "      <th>Gender</th>\n",
              "    </tr>\n",
              "  </thead>\n",
              "  <tbody>\n",
              "    <tr>\n",
              "      <th>0</th>\n",
              "      <td>A</td>\n",
              "      <td>18</td>\n",
              "      <td>M</td>\n",
              "    </tr>\n",
              "    <tr>\n",
              "      <th>1</th>\n",
              "      <td>A</td>\n",
              "      <td>18</td>\n",
              "      <td>M</td>\n",
              "    </tr>\n",
              "    <tr>\n",
              "      <th>2</th>\n",
              "      <td>A</td>\n",
              "      <td>18</td>\n",
              "      <td>F</td>\n",
              "    </tr>\n",
              "    <tr>\n",
              "      <th>3</th>\n",
              "      <td>B</td>\n",
              "      <td>19</td>\n",
              "      <td>F</td>\n",
              "    </tr>\n",
              "    <tr>\n",
              "      <th>4</th>\n",
              "      <td>B</td>\n",
              "      <td>19</td>\n",
              "      <td>F</td>\n",
              "    </tr>\n",
              "    <tr>\n",
              "      <th>5</th>\n",
              "      <td>B</td>\n",
              "      <td>20</td>\n",
              "      <td>M</td>\n",
              "    </tr>\n",
              "    <tr>\n",
              "      <th>6</th>\n",
              "      <td>B</td>\n",
              "      <td>18</td>\n",
              "      <td>M</td>\n",
              "    </tr>\n",
              "    <tr>\n",
              "      <th>7</th>\n",
              "      <td>C</td>\n",
              "      <td>18</td>\n",
              "      <td>F</td>\n",
              "    </tr>\n",
              "    <tr>\n",
              "      <th>8</th>\n",
              "      <td>D</td>\n",
              "      <td>19</td>\n",
              "      <td>M</td>\n",
              "    </tr>\n",
              "    <tr>\n",
              "      <th>9</th>\n",
              "      <td>D</td>\n",
              "      <td>19</td>\n",
              "      <td>F</td>\n",
              "    </tr>\n",
              "  </tbody>\n",
              "</table>\n",
              "</div>"
            ],
            "text/plain": [
              "  Grade  Age Gender\n",
              "0     A   18      M\n",
              "1     A   18      M\n",
              "2     A   18      F\n",
              "3     B   19      F\n",
              "4     B   19      F\n",
              "5     B   20      M\n",
              "6     B   18      M\n",
              "7     C   18      F\n",
              "8     D   19      M\n",
              "9     D   19      F"
            ]
          },
          "metadata": {
            "tags": []
          },
          "execution_count": 2
        }
      ]
    },
    {
      "cell_type": "markdown",
      "metadata": {
        "id": "mfIY1r-L0RDI"
      },
      "source": [
        "# **One-Way Frequency Table**\r\n",
        "You can create a one-way frequency table to display the frequency of a variables in dataset.\r\n",
        "\r\n",
        "Syntax: crosstab(index, columns)\r\n",
        "\r\n",
        "where:\r\n",
        "\r\n",
        "index: name of column to group by & columns: name to give to frequency column\r\n",
        "\r\n",
        "For example here's how to create a one-way frquency table for the variable 'Grade'"
      ]
    },
    {
      "cell_type": "code",
      "metadata": {
        "colab": {
          "base_uri": "https://localhost:8080/",
          "height": 195
        },
        "id": "xwuLj9dq0mCh",
        "outputId": "537026a9-29d6-433a-ac13-d79f35a79e75"
      },
      "source": [
        "pd.crosstab(index=df['Grade'], columns='count')"
      ],
      "execution_count": null,
      "outputs": [
        {
          "output_type": "execute_result",
          "data": {
            "text/html": [
              "<div>\n",
              "<style scoped>\n",
              "    .dataframe tbody tr th:only-of-type {\n",
              "        vertical-align: middle;\n",
              "    }\n",
              "\n",
              "    .dataframe tbody tr th {\n",
              "        vertical-align: top;\n",
              "    }\n",
              "\n",
              "    .dataframe thead th {\n",
              "        text-align: right;\n",
              "    }\n",
              "</style>\n",
              "<table border=\"1\" class=\"dataframe\">\n",
              "  <thead>\n",
              "    <tr style=\"text-align: right;\">\n",
              "      <th>col_0</th>\n",
              "      <th>count</th>\n",
              "    </tr>\n",
              "    <tr>\n",
              "      <th>Grade</th>\n",
              "      <th></th>\n",
              "    </tr>\n",
              "  </thead>\n",
              "  <tbody>\n",
              "    <tr>\n",
              "      <th>A</th>\n",
              "      <td>3</td>\n",
              "    </tr>\n",
              "    <tr>\n",
              "      <th>B</th>\n",
              "      <td>4</td>\n",
              "    </tr>\n",
              "    <tr>\n",
              "      <th>C</th>\n",
              "      <td>1</td>\n",
              "    </tr>\n",
              "    <tr>\n",
              "      <th>D</th>\n",
              "      <td>2</td>\n",
              "    </tr>\n",
              "  </tbody>\n",
              "</table>\n",
              "</div>"
            ],
            "text/plain": [
              "col_0  count\n",
              "Grade       \n",
              "A          3\n",
              "B          4\n",
              "C          1\n",
              "D          2"
            ]
          },
          "metadata": {
            "tags": []
          },
          "execution_count": 4
        }
      ]
    },
    {
      "cell_type": "markdown",
      "metadata": {
        "id": "084rJALy02Aa"
      },
      "source": [
        "# **Two-Way Frequency Table**\r\n",
        "You can also create a two-way frequency table to display the frequencies for two different variables in the dataset. For example, here’s how to create a two-way frequency table for the variables Age and Grade:"
      ]
    },
    {
      "cell_type": "code",
      "metadata": {
        "colab": {
          "base_uri": "https://localhost:8080/",
          "height": 195
        },
        "id": "TT59d7m406m_",
        "outputId": "10d5f8c8-5111-4f66-8f5e-bc283ad93940"
      },
      "source": [
        "pd.crosstab(index=df['Grade'], columns=df['Age'])"
      ],
      "execution_count": null,
      "outputs": [
        {
          "output_type": "execute_result",
          "data": {
            "text/html": [
              "<div>\n",
              "<style scoped>\n",
              "    .dataframe tbody tr th:only-of-type {\n",
              "        vertical-align: middle;\n",
              "    }\n",
              "\n",
              "    .dataframe tbody tr th {\n",
              "        vertical-align: top;\n",
              "    }\n",
              "\n",
              "    .dataframe thead th {\n",
              "        text-align: right;\n",
              "    }\n",
              "</style>\n",
              "<table border=\"1\" class=\"dataframe\">\n",
              "  <thead>\n",
              "    <tr style=\"text-align: right;\">\n",
              "      <th>Age</th>\n",
              "      <th>18</th>\n",
              "      <th>19</th>\n",
              "      <th>20</th>\n",
              "    </tr>\n",
              "    <tr>\n",
              "      <th>Grade</th>\n",
              "      <th></th>\n",
              "      <th></th>\n",
              "      <th></th>\n",
              "    </tr>\n",
              "  </thead>\n",
              "  <tbody>\n",
              "    <tr>\n",
              "      <th>A</th>\n",
              "      <td>3</td>\n",
              "      <td>0</td>\n",
              "      <td>0</td>\n",
              "    </tr>\n",
              "    <tr>\n",
              "      <th>B</th>\n",
              "      <td>1</td>\n",
              "      <td>2</td>\n",
              "      <td>1</td>\n",
              "    </tr>\n",
              "    <tr>\n",
              "      <th>C</th>\n",
              "      <td>1</td>\n",
              "      <td>0</td>\n",
              "      <td>0</td>\n",
              "    </tr>\n",
              "    <tr>\n",
              "      <th>D</th>\n",
              "      <td>0</td>\n",
              "      <td>2</td>\n",
              "      <td>0</td>\n",
              "    </tr>\n",
              "  </tbody>\n",
              "</table>\n",
              "</div>"
            ],
            "text/plain": [
              "Age    18  19  20\n",
              "Grade            \n",
              "A       3   0   0\n",
              "B       1   2   1\n",
              "C       1   0   0\n",
              "D       0   2   0"
            ]
          },
          "metadata": {
            "tags": []
          },
          "execution_count": 5
        }
      ]
    },
    {
      "cell_type": "markdown",
      "metadata": {
        "id": "j3fzE6TUAK9A"
      },
      "source": [
        "Example 2 : Read the dataset from .csv file and show Frequency Table"
      ]
    },
    {
      "cell_type": "code",
      "metadata": {
        "colab": {
          "base_uri": "https://localhost:8080/",
          "height": 373
        },
        "id": "2CUJN596AVYs",
        "outputId": "0ec390f9-0f23-4c36-ada9-a95517865f53"
      },
      "source": [
        "import pandas as pd\r\n",
        "import numpy as np\r\n",
        "ft = pd.read_csv('https://raw.githubusercontent.com/pratikrr/Visualization/main/Products.csv')\r\n",
        "ft\r\n",
        "#one way Frequency Table\r\n",
        "pd.crosstab(index=ft['CostPrice'], columns='count')\r\n",
        "#Two-way Frequency table\r\n",
        "pd.crosstab(index=ft['ProductID'], columns=ft['CostPrice'])"
      ],
      "execution_count": 1,
      "outputs": [
        {
          "output_type": "execute_result",
          "data": {
            "text/html": [
              "<div>\n",
              "<style scoped>\n",
              "    .dataframe tbody tr th:only-of-type {\n",
              "        vertical-align: middle;\n",
              "    }\n",
              "\n",
              "    .dataframe tbody tr th {\n",
              "        vertical-align: top;\n",
              "    }\n",
              "\n",
              "    .dataframe thead th {\n",
              "        text-align: right;\n",
              "    }\n",
              "</style>\n",
              "<table border=\"1\" class=\"dataframe\">\n",
              "  <thead>\n",
              "    <tr style=\"text-align: right;\">\n",
              "      <th>CostPrice</th>\n",
              "      <th>43</th>\n",
              "      <th>60</th>\n",
              "      <th>78</th>\n",
              "      <th>109</th>\n",
              "      <th>132</th>\n",
              "      <th>150</th>\n",
              "    </tr>\n",
              "    <tr>\n",
              "      <th>ProductID</th>\n",
              "      <th></th>\n",
              "      <th></th>\n",
              "      <th></th>\n",
              "      <th></th>\n",
              "      <th></th>\n",
              "      <th></th>\n",
              "    </tr>\n",
              "  </thead>\n",
              "  <tbody>\n",
              "    <tr>\n",
              "      <th>AA</th>\n",
              "      <td>0</td>\n",
              "      <td>1</td>\n",
              "      <td>0</td>\n",
              "      <td>0</td>\n",
              "      <td>0</td>\n",
              "      <td>0</td>\n",
              "    </tr>\n",
              "    <tr>\n",
              "      <th>BB</th>\n",
              "      <td>1</td>\n",
              "      <td>0</td>\n",
              "      <td>0</td>\n",
              "      <td>0</td>\n",
              "      <td>0</td>\n",
              "      <td>0</td>\n",
              "    </tr>\n",
              "    <tr>\n",
              "      <th>CC</th>\n",
              "      <td>0</td>\n",
              "      <td>0</td>\n",
              "      <td>1</td>\n",
              "      <td>0</td>\n",
              "      <td>0</td>\n",
              "      <td>0</td>\n",
              "    </tr>\n",
              "    <tr>\n",
              "      <th>DD</th>\n",
              "      <td>0</td>\n",
              "      <td>1</td>\n",
              "      <td>0</td>\n",
              "      <td>0</td>\n",
              "      <td>0</td>\n",
              "      <td>0</td>\n",
              "    </tr>\n",
              "    <tr>\n",
              "      <th>EE</th>\n",
              "      <td>1</td>\n",
              "      <td>0</td>\n",
              "      <td>0</td>\n",
              "      <td>0</td>\n",
              "      <td>0</td>\n",
              "      <td>0</td>\n",
              "    </tr>\n",
              "    <tr>\n",
              "      <th>FF</th>\n",
              "      <td>0</td>\n",
              "      <td>0</td>\n",
              "      <td>0</td>\n",
              "      <td>0</td>\n",
              "      <td>0</td>\n",
              "      <td>1</td>\n",
              "    </tr>\n",
              "    <tr>\n",
              "      <th>GG</th>\n",
              "      <td>0</td>\n",
              "      <td>0</td>\n",
              "      <td>0</td>\n",
              "      <td>0</td>\n",
              "      <td>1</td>\n",
              "      <td>0</td>\n",
              "    </tr>\n",
              "    <tr>\n",
              "      <th>II</th>\n",
              "      <td>0</td>\n",
              "      <td>0</td>\n",
              "      <td>0</td>\n",
              "      <td>0</td>\n",
              "      <td>1</td>\n",
              "      <td>0</td>\n",
              "    </tr>\n",
              "    <tr>\n",
              "      <th>JJ</th>\n",
              "      <td>0</td>\n",
              "      <td>0</td>\n",
              "      <td>0</td>\n",
              "      <td>1</td>\n",
              "      <td>0</td>\n",
              "      <td>0</td>\n",
              "    </tr>\n",
              "    <tr>\n",
              "      <th>KK</th>\n",
              "      <td>0</td>\n",
              "      <td>0</td>\n",
              "      <td>0</td>\n",
              "      <td>1</td>\n",
              "      <td>0</td>\n",
              "      <td>0</td>\n",
              "    </tr>\n",
              "  </tbody>\n",
              "</table>\n",
              "</div>"
            ],
            "text/plain": [
              "CostPrice  43   60   78   109  132  150\n",
              "ProductID                              \n",
              "AA           0    1    0    0    0    0\n",
              "BB           1    0    0    0    0    0\n",
              "CC           0    0    1    0    0    0\n",
              "DD           0    1    0    0    0    0\n",
              "EE           1    0    0    0    0    0\n",
              "FF           0    0    0    0    0    1\n",
              "GG           0    0    0    0    1    0\n",
              "II           0    0    0    0    1    0\n",
              "JJ           0    0    0    1    0    0\n",
              "KK           0    0    0    1    0    0"
            ]
          },
          "metadata": {
            "tags": []
          },
          "execution_count": 1
        }
      ]
    },
    {
      "cell_type": "markdown",
      "metadata": {
        "id": "nV4sA3iHc2lX"
      },
      "source": [
        "**2. Scatter Plot**\r\n",
        "\r\n",
        "Scatter Plots are usually used to represent the correlation between two or more variables. It also helps it identify Outliers, if any.\r\n",
        "\r\n",
        "Syntax : plt.scatter(x,y)\r\n",
        "where x and y are the columns of the data which is to be plotted.\r\n",
        "\r\n",
        "Example 1: Suppose the result was announced for a class. In this class both guys and girls appeared in the exam. The goal is to find out who performed better and how to get rid of shortcomings.\r\n"
      ]
    },
    {
      "cell_type": "code",
      "metadata": {
        "colab": {
          "base_uri": "https://localhost:8080/",
          "height": 295
        },
        "id": "OdiRN-DcddxK",
        "outputId": "23e8d00b-feee-4f48-e478-f8e7ff73665c"
      },
      "source": [
        "import matplotlib.pyplot as plt\r\n",
        "import pandas as pd\r\n",
        "girls_grades = [89, 90, 70, 89, 100, 80, 90, 100, 80, 34]\r\n",
        "boys_grades = [30, 29, 49, 48, 100, 48, 38, 45, 20, 30]\r\n",
        "grades_range = [10, 20, 30, 40, 50, 60, 70, 80, 90, 100]\r\n",
        "plt.scatter(grades_range, girls_grades, color='r')\r\n",
        "plt.scatter(grades_range, boys_grades, color='g')\r\n",
        "plt.xlabel('Grades Range')\r\n",
        "plt.ylabel('Grades Scored')\r\n",
        "plt.title('Results')\r\n",
        "plt.show()"
      ],
      "execution_count": 6,
      "outputs": [
        {
          "output_type": "display_data",
          "data": {
            "image/png": "[encoded data removed]",
            "text/plain": [
              "<Figure size 432x288 with 1 Axes>"
            ]
          },
          "metadata": {
            "tags": [],
            "needs_background": "light"
          }
        }
      ]
    },
    {
      "cell_type": "markdown",
      "metadata": {
        "id": "TNySYiEretzm"
      },
      "source": [
        "Example 1.1: Draw two plots on the same figure"
      ]
    },
    {
      "cell_type": "code",
      "metadata": {
        "colab": {
          "base_uri": "https://localhost:8080/",
          "height": 265
        },
        "id": "GrPGY6Qgerfd",
        "outputId": "913f5646-1628-4c43-b86f-f35b65dd94ed"
      },
      "source": [
        "import matplotlib.pyplot as plt\r\n",
        "import numpy as np\r\n",
        "\r\n",
        "#day one, the age and speed of 13 cars:\r\n",
        "x = np.array([5,7,8,7,2,17,2,9,4,11,12,9,6])\r\n",
        "y = np.array([99,86,87,88,111,86,103,87,94,78,77,85,86])\r\n",
        "plt.scatter(x, y)\r\n",
        "\r\n",
        "#day two, the age and speed of 15 cars:\r\n",
        "x = np.array([2,2,8,1,15,8,12,9,7,3,11,4,7,14,12])\r\n",
        "y = np.array([100,105,84,105,90,99,90,95,94,100,79,112,91,80,85])\r\n",
        "plt.scatter(x, y)\r\n",
        "\r\n",
        "plt.show()"
      ],
      "execution_count": 9,
      "outputs": [
        {
          "output_type": "display_data",
          "data": {
            "image/png": "[encoded data removed]",
            "text/plain": [
              "<Figure size 432x288 with 1 Axes>"
            ]
          },
          "metadata": {
            "tags": [],
            "needs_background": "light"
          }
        }
      ]
    },
    {
      "cell_type": "markdown",
      "metadata": {
        "id": "DmpPjIfleDeM"
      },
      "source": [
        "Example 2: Read the dataset from .csv file and show scatter plot to find sea level rise in past 100 years."
      ]
    },
    {
      "cell_type": "code",
      "metadata": {
        "colab": {
          "base_uri": "https://localhost:8080/",
          "height": 295
        },
        "id": "UsXZXF4obxrX",
        "outputId": "0bfdba47-2cde-433c-ae82-f0b84082272e"
      },
      "source": [
        "import pandas as pd\r\n",
        "import numpy as np\r\n",
        "import matplotlib.pyplot as plt\r\n",
        "\r\n",
        "d = pd.read_csv('https://raw.githubusercontent.com/pratikrr/Visualization/main/SeaLevel.csv')\r\n",
        "year = d['Year']\r\n",
        "sea_levels = d['CSIRO Adjusted Sea Level']\r\n",
        "plt.scatter(year, sea_levels, edgecolors='r')\r\n",
        "plt.xlabel('Year')\r\n",
        "plt.ylabel('Sea Level (inches)')\r\n",
        "plt.title('Rise in Sealevel')\r\n",
        "plt.show()"
      ],
      "execution_count": 4,
      "outputs": [
        {
          "output_type": "display_data",
          "data": {
            "image/png": "[encoded data removed]",
            "text/plain": [
              "<Figure size 432x288 with 1 Axes>"
            ]
          },
          "metadata": {
            "tags": [],
            "needs_background": "light"
          }
        }
      ]
    },
    {
      "cell_type": "markdown",
      "metadata": {
        "id": "yT7Np_kwgYA5"
      },
      "source": [
        "**3. Line chart**\r\n",
        "\r\n",
        "Line plot or line chart represents the data in a series (in continuation) showing the frequency of data along with the number line. It can be used to compare numerical sets of values. Line charts are used to represent the relation between two data X and Y on a different axis.\r\n",
        "\r\n",
        "Syntax : plt.plot(x,y) where x and y are the two datasets to be represented in relation\r\n",
        "\r\n",
        "Example 1 : Plot line chart for a single set of Data"
      ]
    },
    {
      "cell_type": "code",
      "metadata": {
        "colab": {
          "base_uri": "https://localhost:8080/",
          "height": 295
        },
        "id": "JS6Rgv1qfs_C",
        "outputId": "6a7239c5-61c2-4b54-c460-2d2ddcc7687c"
      },
      "source": [
        "import pandas as pd\r\n",
        "import numpy as np\r\n",
        "import matplotlib.pyplot as plt\r\n",
        "\r\n",
        "# prepare data\r\n",
        "x = [5,8,10]\r\n",
        "y = [12,16,6]\r\n",
        "\r\n",
        "# prepare plot\r\n",
        "plt.figure()\r\n",
        "plt.plot(x, y, label='Data')\r\n",
        "\r\n",
        "# annotations\r\n",
        "plt.title('Graph Title : Plot of X and Y Values')\r\n",
        "plt.xlabel('X axis')\r\n",
        "plt.ylabel('Y axis')\r\n",
        "plt.legend()\r\n",
        "plt.show()\r\n"
      ],
      "execution_count": 16,
      "outputs": [
        {
          "output_type": "display_data",
          "data": {
            "image/png": "[encoded data removed]",
            "text/plain": [
              "<Figure size 432x288 with 1 Axes>"
            ]
          },
          "metadata": {
            "tags": [],
            "needs_background": "light"
          }
        }
      ]
    },
    {
      "cell_type": "markdown",
      "metadata": {
        "id": "08B_voe3jGZH"
      },
      "source": [
        "Example 2 : Plot line chart for two set of data with styles"
      ]
    },
    {
      "cell_type": "code",
      "metadata": {
        "colab": {
          "base_uri": "https://localhost:8080/",
          "height": 295
        },
        "id": "E-hTWjk0jcI6",
        "outputId": "5bbc60dd-6789-47e9-c582-571e039842dd"
      },
      "source": [
        "import pandas as pd\r\n",
        "import numpy as np\r\n",
        "import matplotlib.pyplot as plt\r\n",
        "\r\n",
        "x1 = [5,8,10]\r\n",
        "y1 = [12,16,6]\r\n",
        "x2 = [6,9,11]\r\n",
        "y2 = [6,15,7]\r\n",
        "# prepare plot\r\n",
        "plt.figure()\r\n",
        "plt.plot(x1,y1,color='g', label='line one', marker='.', linestyle='--', linewidth=1)\r\n",
        "plt.plot(x2,y2,color='c', label='line two', marker='.', linestyle=':', linewidth=3)\r\n",
        "# annotations\r\n",
        "plt.title('Graph Title')\r\n",
        "plt.ylabel('Y axis')\r\n",
        "plt.xlabel('X axis')\r\n",
        "\r\n",
        "plt.legend()\r\n",
        "plt.show()\r\n"
      ],
      "execution_count": 17,
      "outputs": [
        {
          "output_type": "display_data",
          "data": {
            "image/png": "[encoded data removed]",
            "text/plain": [
              "<Figure size 432x288 with 1 Axes>"
            ]
          },
          "metadata": {
            "tags": [],
            "needs_background": "light"
          }
        }
      ]
    },
    {
      "cell_type": "markdown",
      "metadata": {
        "id": "iipeW045th3x"
      },
      "source": [
        "**4. Bar Chart**\r\n",
        "\r\n",
        "A bar plot or bar chart is a graph that represents the category of data with rectangular bars with lengths and heights that is proportional to the values which they represent. The bar plots can be plotted horizontally or vertically. A bar chart describes the comparisons between the discrete categories. One of the axis of the plot represents the specific categories being compared, while the other axis represents the measured values corresponding to those categories.\r\n",
        "\r\n",
        "Syntax : plt.bar(x, height, width, bottom, align)\r\n",
        "\r\n",
        "Example 1 : Prepare data and plot the bar chart"
      ]
    },
    {
      "cell_type": "code",
      "metadata": {
        "colab": {
          "base_uri": "https://localhost:8080/",
          "height": 295
        },
        "id": "FWvzBKgMjz9N",
        "outputId": "285a90d3-eadc-4aea-9ced-cb85bc781638"
      },
      "source": [
        "import pandas as pd\r\n",
        "import numpy as np\r\n",
        "import matplotlib.pyplot as plt\r\n",
        "\r\n",
        "# prepare data\r\n",
        "x1 = [5,8,10]\r\n",
        "y1 = [12,16,6]\r\n",
        "x2 = [6,9,11]\r\n",
        "y2 = [6,15,7]\r\n",
        " \r\n",
        "# prepare plot\r\n",
        "#plt.figure()\r\n",
        "plt.bar(x1,y1,color='r',label='series1')\r\n",
        "plt.bar(x2,y2,color='g',label='series2')\r\n",
        "# annotations\r\n",
        "plt.title('Graph Title')\r\n",
        "plt.ylabel('Y axis')\r\n",
        "plt.xlabel('X axis')\r\n",
        "plt.legend()\r\n",
        "# show plot\r\n",
        "plt.show()\r\n"
      ],
      "execution_count": 41,
      "outputs": [
        {
          "output_type": "display_data",
          "data": {
            "image/png": "[encoded data removed]",
            "text/plain": [
              "<Figure size 432x288 with 1 Axes>"
            ]
          },
          "metadata": {
            "tags": [],
            "needs_background": "light"
          }
        }
      ]
    },
    {
      "cell_type": "markdown",
      "metadata": {
        "id": "rT6xpSo3ujQq"
      },
      "source": [
        "Example 2 : Read the data from .csv file and plot the bar chart for products with its Selling price and Cost price."
      ]
    },
    {
      "cell_type": "code",
      "metadata": {
        "colab": {
          "base_uri": "https://localhost:8080/",
          "height": 502
        },
        "id": "7ggvSyVnmVNH",
        "outputId": "474928d9-0e98-4486-bdef-f22f46ad2341"
      },
      "source": [
        "import pandas as pd\r\n",
        "import numpy as np\r\n",
        "import matplotlib.pyplot as plt\r\n",
        "\r\n",
        "d = pd.read_csv('https://raw.githubusercontent.com/pratikrr/Visualization/main/Products.csv')\r\n",
        "pid = d['ProductID']\r\n",
        "cp = d['CostPrice']\r\n",
        "sp = d['SellingPrice']\r\n",
        "# set width of bar \r\n",
        "barWidth = 0.30\r\n",
        "fig = plt.subplots(figsize =(12, 8)) \r\n",
        "\r\n",
        "# Set position of bar on X axis \r\n",
        "br1 = np.arange(len(cp)) \r\n",
        "br2 = [x + barWidth for x in br1] \r\n",
        "\r\n",
        "plt.bar(br1, cp, color ='b', width = barWidth, edgecolor ='grey', label ='CostPrice') \r\n",
        "plt.bar(br2, sp, color ='g', width = barWidth, edgecolor ='grey', label ='SellingPrice') \r\n",
        "# annotations\r\n",
        "plt.xlabel('ProductID', fontweight ='bold', fontsize = 15) \r\n",
        "plt.ylabel('Price', fontweight ='bold', fontsize = 15) \r\n",
        "plt.xticks([r + barWidth for r in range(len(pid))], \r\n",
        "        ['AA', 'BB', 'CC', 'DD', 'EE','FF','GG','II','JJ','KK'])\r\n",
        " \r\n",
        "plt.legend()\r\n",
        "plt.show() "
      ],
      "execution_count": 1,
      "outputs": [
        {
          "output_type": "display_data",
          "data": {
            "image/png": "[encoded data removed]",
            "text/plain": [
              "<Figure size 864x576 with 1 Axes>"
            ]
          },
          "metadata": {
            "tags": [],
            "needs_background": "light"
          }
        }
      ]
    },
    {
      "cell_type": "markdown",
      "metadata": {
        "id": "3d1Yh8fNya5e"
      },
      "source": [
        "**5. Histogram**\r\n",
        "\r\n",
        "A histogram is basically used to represent data provided in a form of some groups.It is accurate method for the graphical representation of numerical data distribution.It is a type of bar plot where X-axis represents the bin ranges while Y-axis gives information about frequency.\r\n",
        "\r\n",
        "**Creating Histogram**\r\n",
        "\r\n",
        "To create a histogram the first step is to create bin of the ranges, then distribute the whole range of the values into a series of intervals, and the count the values which fall into each of the intervals.Bins are clearly identified as consecutive, non-overlapping intervals of variables.The ***matplotlib.pyplot.hist()*** function is used to compute and create histogram of x.\r\n",
        "\r\n",
        "\r\n",
        "Example 1: Read the array and produce the histograms using hist() function."
      ]
    },
    {
      "cell_type": "code",
      "metadata": {
        "colab": {
          "base_uri": "https://localhost:8080/",
          "height": 265
        },
        "id": "13LrHNnT0Yvq",
        "outputId": "1151d6c0-5f23-42f4-d518-05bbe3258e6c"
      },
      "source": [
        "import matplotlib.pyplot as plt\r\n",
        "import numpy as np\r\n",
        "\r\n",
        "x = np.random.normal(170, 10, 250)\r\n",
        "\r\n",
        "plt.hist(x)\r\n",
        "plt.show() "
      ],
      "execution_count": 4,
      "outputs": [
        {
          "output_type": "display_data",
          "data": {
            "image/png": "[encoded data removed]",
            "text/plain": [
              "<Figure size 432x288 with 1 Axes>"
            ]
          },
          "metadata": {
            "tags": [],
            "needs_background": "light"
          }
        }
      ]
    },
    {
      "cell_type": "markdown",
      "metadata": {
        "id": "lVDqjpQz0iFR"
      },
      "source": [
        "Example 2: Preapre the dataset of your own and plot Histogram."
      ]
    },
    {
      "cell_type": "code",
      "metadata": {
        "colab": {
          "base_uri": "https://localhost:8080/",
          "height": 295
        },
        "id": "0VBFU--6ze3E",
        "outputId": "842e6dc8-5cc0-4b46-e37b-bedfbb8db088"
      },
      "source": [
        "import pandas as pd\r\n",
        "import numpy as np\r\n",
        "import matplotlib.pyplot as plt\r\n",
        "\r\n",
        "# prepare data\r\n",
        "ages = [22,55,62,15,21,22,34,42,42,4,99,102,110,120,121,122,130,111,115,112,80,75,65,54,44,43,42,48]\r\n",
        "bins = [0,10,20,30,40,50,60,70,80,90,100,110,120,130]\r\n",
        "# prepare plot\r\n",
        "plt.figure()\r\n",
        "plt.hist(ages, bins, color='b', rwidth=2, label='ages')\r\n",
        "# annotations\r\n",
        "plt.title('Histogram')\r\n",
        "plt.ylabel('Frequency')\r\n",
        "plt.xlabel('Ages')\r\n",
        "plt.legend()\r\n",
        "plt.show()\r\n"
      ],
      "execution_count": 2,
      "outputs": [
        {
          "output_type": "display_data",
          "data": {
            "image/png": "[encoded data removed]",
            "text/plain": [
              "<Figure size 432x288 with 1 Axes>"
            ]
          },
          "metadata": {
            "tags": [],
            "needs_background": "light"
          }
        }
      ]
    },
    {
      "cell_type": "code",
      "metadata": {
        "id": "YGQx9S0TttcE"
      },
      "source": [
        "import seaborn as sns\r\n",
        "df = sns.load_dataset('iris')\r\n",
        "\r\n",
        "plt.subplots(figsize=(7,6), dpi=100)\r\n",
        "sns.distplot( df.loc[df.species=='setosa', \"sepal_length\"] , color=\"dodgerblue\", label=\"Setosa\")\r\n",
        "sns.distplot( df.loc[df.species=='virginica', \"sepal_length\"] , color=\"orange\", label=\"virginica\")\r\n",
        "sns.distplot( df.loc[df.species=='versicolor', \"sepal_length\"] , color=\"deeppink\", label=\"versicolor\")\r\n",
        "\r\n",
        "plt.title('Iris Histogram')\r\n",
        "plt.legend();"
      ],
      "execution_count": null,
      "outputs": []
    },
    {
      "cell_type": "markdown",
      "metadata": {
        "id": "loWRnF2bsXmS"
      },
      "source": [
        "**6. Density Curve**\r\n",
        "\r\n",
        "Density Plot is a type of data visualization tool. It is a variation of the histogram that uses ‘kernel smoothing’ while plotting the values. It is a continuous and smooth version of a histogram inferred from a data.\r\n",
        "\r\n",
        "Density plots uses Kernel Density Estimation (so they are also known as Kernel density estimation plots or KDE) which is a probability density function. The region of plot with a higher peak is the region with maximum data points residing between those values.\r\n",
        "\r\n",
        "\r\n",
        "Example 1: Given the dataset ‘car_crashes’, let’s find out using the density plot which is the most common speed due to which most of the car crashes happened.\r\n",
        "\r\n"
      ]
    },
    {
      "cell_type": "code",
      "metadata": {
        "colab": {
          "base_uri": "https://localhost:8080/",
          "height": 398
        },
        "id": "RlLcwnHovYG3",
        "outputId": "268d16c8-6f6a-4a61-8006-eca410fde838"
      },
      "source": [
        "# importing the libraries \r\n",
        "import pandas as pd \r\n",
        "import seaborn as sns \r\n",
        "import matplotlib.pyplot as plt \r\n",
        "\r\n",
        "# loading the dataset from seaborn library \r\n",
        "data = sns.load_dataset('car_crashes') \r\n",
        "\r\n",
        "# viewing the dataset \r\n",
        "print(data.head(4))\r\n",
        "\r\n",
        "# plotting the density plot for 'speeding' attribute using plot.density() \r\n",
        "data.speeding.plot.density(color='green') \r\n",
        "plt.title('Density plot for Speeding') \r\n",
        "plt.show()"
      ],
      "execution_count": 14,
      "outputs": [
        {
          "output_type": "stream",
          "text": [
            "   total  speeding  alcohol  ...  ins_premium  ins_losses  abbrev\n",
            "0   18.8     7.332    5.640  ...       784.55      145.08      AL\n",
            "1   18.1     7.421    4.525  ...      1053.48      133.93      AK\n",
            "2   18.6     6.510    5.208  ...       899.47      110.35      AZ\n",
            "3   22.4     4.032    5.824  ...       827.34      142.39      AR\n",
            "\n",
            "[4 rows x 8 columns]\n"
          ],
          "name": "stdout"
        },
        {
          "output_type": "display_data",
          "data": {
            "image/png": "[encoded data removed]",
            "text/plain": [
              "<Figure size 432x288 with 1 Axes>"
            ]
          },
          "metadata": {
            "tags": [],
            "needs_background": "light"
          }
        }
      ]
    },
    {
      "cell_type": "markdown",
      "metadata": {
        "id": "6KDXA7VwwPeq"
      },
      "source": [
        "Example 2: For another dataset ‘tips’, let’s calculate what was the most common tip given by a customer. "
      ]
    },
    {
      "cell_type": "code",
      "metadata": {
        "colab": {
          "base_uri": "https://localhost:8080/",
          "height": 365
        },
        "id": "scZtyMEVwTCt",
        "outputId": "2c5a85d5-aec5-4a7c-81ca-13b51fbe22ea"
      },
      "source": [
        "# importing the libraries \r\n",
        "import pandas as pd \r\n",
        "import seaborn as sns \r\n",
        "import matplotlib.pyplot as plt \r\n",
        "\r\n",
        "# loading the dataset from seaborn library \r\n",
        "data = sns.load_dataset('tips') \r\n",
        "\r\n",
        "# viewing the dataset \r\n",
        "print(data.head(4))\r\n",
        "\r\n",
        "# density plot for 'tip' \r\n",
        "data.tip.plot.density(color='green') \r\n",
        "plt.title('Density Plot for Tip') \r\n",
        "plt.show()\r\n"
      ],
      "execution_count": 15,
      "outputs": [
        {
          "output_type": "stream",
          "text": [
            "   total_bill   tip     sex smoker  day    time  size\n",
            "0       16.99  1.01  Female     No  Sun  Dinner     2\n",
            "1       10.34  1.66    Male     No  Sun  Dinner     3\n",
            "2       21.01  3.50    Male     No  Sun  Dinner     3\n",
            "3       23.68  3.31    Male     No  Sun  Dinner     2\n"
          ],
          "name": "stdout"
        },
        {
          "output_type": "display_data",
          "data": {
            "image/png": "[encoded data removed]",
            "text/plain": [
              "<Figure size 432x288 with 1 Axes>"
            ]
          },
          "metadata": {
            "tags": [],
            "needs_background": "light"
          }
        }
      ]
    }
  ]
}